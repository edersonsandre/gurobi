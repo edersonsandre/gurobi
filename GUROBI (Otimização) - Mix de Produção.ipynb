{
 "cells": [
  {
   "cell_type": "code",
   "execution_count": 1,
   "metadata": {},
   "outputs": [],
   "source": [
    "import gurobipy as gp"
   ]
  },
  {
   "cell_type": "markdown",
   "metadata": {},
   "source": [
    "Neste exemplo temos 3 produtos onde cada um com seu lucro unitários, sendo:\n",
    "\n",
    " Produto  | Lucro Unitário  | Variável de Decisão  | Valores |\n",
    ":---:|:---:|:---:|---:\n",
    "  A | 12  | x1  | ?  \n",
    "  B | 18  | x2  | ? \n",
    "  C | 22  | x3  | ? \n",
    "\n",
    "\n",
    "Na tabela abaixo temos o total de produção por maquina, é possivel observar que o produto **A** consume 1,5 da máquina 01, nenhum tempo da máquina 02 e 1,2 da máquina 03.\n",
    "\n",
    " Produto  | Máquina 01  | Máquina 02  | Máquina 03 \n",
    ":---:|:---:|:---:|:---:\n",
    "  A | 1.5  | 0  | 1.2  \n",
    "  B | 0  | 2.2  | 2 \n",
    "  C | 1.2  | 1.4  | 2.4 \n",
    "  **Tempo Disponível** | **120**  | **200**  | **250** \n",
    "  **Tempo Usado** | **0**  | **0**  | **0** "
   ]
  },
  {
   "cell_type": "code",
   "execution_count": 20,
   "metadata": {},
   "outputs": [],
   "source": [
    "# Criação do modelo\n",
    "m = gp.Model(\"MIX de Produção\")\n",
    "\n",
    "# Variavel de decisão\n",
    "x1 = m.addVar()\n",
    "x2 = m.addVar()\n",
    "x3 = m.addVar()\n",
    "\n",
    "# Função Objetivo do problema\n",
    "# sense é o sentido do modelo\n",
    "m.setObjective(12 * x1  + 18 * x2 + 22 * x3, sense=gp.GRB.MAXIMIZE)"
   ]
  },
  {
   "cell_type": "code",
   "execution_count": 21,
   "metadata": {},
   "outputs": [],
   "source": [
    "# configurações de restrições\n",
    "c1 = m.addConstr(1.5 * x1 + 1.2 * x3 <= 120)\n",
    "c2 = m.addConstr(2.2 * x2 + 1.4 * x3 <= 200)\n",
    "c3 = m.addConstr(1.2 * x1 + 2 * x2 + 2.4 * x3 <= 250)"
   ]
  },
  {
   "cell_type": "code",
   "execution_count": 22,
   "metadata": {},
   "outputs": [
    {
     "name": "stdout",
     "output_type": "stream",
     "text": [
      "Gurobi Optimizer version 9.1.0 build v9.1.0rc0 (mac64)\n",
      "Thread count: 4 physical cores, 8 logical processors, using up to 8 threads\n",
      "Optimize a model with 3 rows, 3 columns and 7 nonzeros\n",
      "Model fingerprint: 0xa81d5c28\n",
      "Coefficient statistics:\n",
      "  Matrix range     [1e+00, 2e+00]\n",
      "  Objective range  [1e+01, 2e+01]\n",
      "  Bounds range     [0e+00, 0e+00]\n",
      "  RHS range        [1e+02, 2e+02]\n",
      "Presolve time: 0.01s\n",
      "Presolved: 3 rows, 3 columns, 7 nonzeros\n",
      "\n",
      "Iteration    Objective       Primal Inf.    Dual Inf.      Time\n",
      "       0    5.2000000e+31   5.000000e+30   5.200000e+01      0s\n",
      "       5    2.3460000e+03   0.000000e+00   0.000000e+00      0s\n",
      "\n",
      "Solved in 5 iterations and 0.01 seconds\n",
      "Optimal objective  2.346000000e+03\n"
     ]
    }
   ],
   "source": [
    "# Resolução do modelo\n",
    "m.optimize()"
   ]
  },
  {
   "cell_type": "code",
   "execution_count": 17,
   "metadata": {},
   "outputs": [
    {
     "name": "stdout",
     "output_type": "stream",
     "text": [
      "Produto A: 80.0\n",
      "Produto B: 77.0\n",
      "Produto C: 0.0\n"
     ]
    }
   ],
   "source": [
    "print(\"Produto A: {0}\".format(x1.X))\n",
    "print(\"Produto B: {0}\".format(x2.X))\n",
    "print(\"Produto C: {0}\".format(x3.X))"
   ]
  },
  {
   "cell_type": "markdown",
   "metadata": {},
   "source": [
    "| Valores  |\n",
    "| :---:  |\n",
    "|  80  |\n",
    "|  77  |\n",
    "|  0  |"
   ]
  },
  {
   "cell_type": "code",
   "execution_count": 19,
   "metadata": {},
   "outputs": [
    {
     "name": "stdout",
     "output_type": "stream",
     "text": [
      "Máquina 1: 120.0\n",
      "Máquina 2: 169.4\n",
      "Máquina 3: 250.0\n"
     ]
    }
   ],
   "source": [
    "time_m1 = 120 - c1.Slack\n",
    "time_m2 = 200 - c2.Slack\n",
    "time_m3 = 250 - c3.Slack\n",
    "\n",
    "print(\"Máquina 1: {0}\".format(time_m1))\n",
    "print(\"Máquina 2: {0}\".format(time_m2))\n",
    "print(\"Máquina 3: {0}\".format(time_m3))"
   ]
  },
  {
   "cell_type": "markdown",
   "metadata": {},
   "source": [
    " Produto  | Máquina 01  | Máquina 02  | Máquina 03 \n",
    ":---|:---:|:---:|:---:\n",
    "**Tempo Disponível** | **120**  | **200**  | **250** \n",
    "**Tempo Usado** | **120**  | **169.4**  | **250** \n",
    "**Sobra** | **0**  | **30.6**  | **0** "
   ]
  }
 ],
 "metadata": {
  "kernelspec": {
   "display_name": "Python 3",
   "language": "python",
   "name": "python3"
  },
  "language_info": {
   "codemirror_mode": {
    "name": "ipython",
    "version": 3
   },
   "file_extension": ".py",
   "mimetype": "text/x-python",
   "name": "python",
   "nbconvert_exporter": "python",
   "pygments_lexer": "ipython3",
   "version": "3.7.4"
  }
 },
 "nbformat": 4,
 "nbformat_minor": 4
}
