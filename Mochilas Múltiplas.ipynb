{
 "cells": [
  {
   "cell_type": "code",
   "execution_count": 1,
   "metadata": {},
   "outputs": [],
   "source": [
    "import gurobipy as gp"
   ]
  },
  {
   "cell_type": "code",
   "execution_count": 31,
   "metadata": {},
   "outputs": [],
   "source": [
    "qtde_itens = 63\n",
    "qtde_mochilas = 3\n",
    "\n",
    "vet_pesos = [145, 159, 148, 128, 80, 92, 141, 178, 93, 146, 64, 129, 83, 84, 127, 168, 75, 80, 153, 133, 110, 79, 105, 87, 87, 53, 158, 146, 51, 107, 116, 165, 167, 134, 169, 62, 57, 127, 54, 199, 115, 108, 138, 81, 75, 169, 148, 191, 82, 123, 189, 189, 146, 55, 140, 88, 154, 157, 106, 53, 192, 180, 177]\n",
    "vet_valores = [326, 417, 333, 345, 202, 209, 363, 404, 232, 350, 172, 309, 213, 201, 311, 424, 174, 204, 397, 302, 253, 215, 270, 230, 221, 125, 430, 397, 132, 272, 281, 400, 375, 314, 447, 150, 128, 339, 139, 542, 290, 251, 317, 212, 168, 452, 399, 453, 223, 319, 505, 448, 365, 127, 318, 200, 400, 365, 262, 137, 441, 423, 469]\n",
    "vet_capacidades = [1500, 2000, 1700]\n",
    "\n",
    "itens = [\"Item_{}\".format(i+1) for i in range(qtde_itens)]\n",
    "mochilas = [\"Mochila_{}\".format(i+1) for i in range(qtde_mochilas)]\n",
    "\n",
    "capacidades = dict((mochilas[i], valor) for i, valor in enumerate(vet_capacidades))\n",
    "pesos = dict((itens[i], peso) for i, peso in enumerate(vet_pesos))\n",
    "valores = dict((itens[i], valor) for i, valor in enumerate(vet_valores))"
   ]
  },
  {
   "cell_type": "code",
   "execution_count": 38,
   "metadata": {},
   "outputs": [
    {
     "name": "stdout",
     "output_type": "stream",
     "text": [
      "Gurobi Optimizer version 9.1.0 build v9.1.0rc0 (mac64)\n",
      "Thread count: 4 physical cores, 8 logical processors, using up to 8 threads\n",
      "Optimize a model with 66 rows, 189 columns and 378 nonzeros\n",
      "Model fingerprint: 0x653252e3\n",
      "Variable types: 0 continuous, 189 integer (189 binary)\n",
      "Coefficient statistics:\n",
      "  Matrix range     [1e+00, 2e+02]\n",
      "  Objective range  [1e+02, 5e+02]\n",
      "  Bounds range     [1e+00, 1e+00]\n",
      "  RHS range        [1e+00, 2e+03]\n",
      "Found heuristic solution: objective 12745.000000\n",
      "Presolve time: 0.00s\n",
      "Presolved: 66 rows, 189 columns, 378 nonzeros\n",
      "Variable types: 0 continuous, 189 integer (189 binary)\n",
      "\n",
      "Root relaxation: objective 1.337307e+04, 75 iterations, 0.00 seconds\n",
      "\n",
      "    Nodes    |    Current Node    |     Objective Bounds      |     Work\n",
      " Expl Unexpl |  Obj  Depth IntInf | Incumbent    BestBd   Gap | It/Node Time\n",
      "\n",
      "     0     0 13373.0741    0    5 12745.0000 13373.0741  4.93%     -    0s\n",
      "H    0     0                    13313.000000 13373.0741  0.45%     -    0s\n",
      "     0     0 13373.0741    0   11 13313.0000 13373.0741  0.45%     -    0s\n",
      "H    0     0                    13318.000000 13373.0741  0.41%     -    0s\n",
      "H    0     0                    13335.000000 13372.9791  0.28%     -    0s\n",
      "     0     0 13367.3433    0    8 13335.0000 13367.3433  0.24%     -    0s\n",
      "     0     0 13367.3433    0    8 13335.0000 13367.3433  0.24%     -    0s\n",
      "     0     0 13367.3433    0   10 13335.0000 13367.3433  0.24%     -    0s\n",
      "     0     0 13367.3433    0    8 13335.0000 13367.3433  0.24%     -    0s\n",
      "H    0     0                    13338.000000 13367.3433  0.22%     -    0s\n",
      "     0     0 13367.3433    0    8 13338.0000 13367.3433  0.22%     -    0s\n",
      "     0     0 13367.3433    0    8 13338.0000 13367.3433  0.22%     -    0s\n",
      "     0     2 13367.3433    0    8 13338.0000 13367.3433  0.22%     -    0s\n",
      "H   55    80                    13346.000000 13367.2800  0.16%   3.0    0s\n",
      "H  634   444                    13364.000000 13367.2800  0.02%   2.5    0s\n",
      "\n",
      "Cutting planes:\n",
      "  Gomory: 5\n",
      "  Cover: 1\n",
      "  StrongCG: 1\n",
      "\n",
      "Explored 5832 nodes (15674 simplex iterations) in 0.70 seconds\n",
      "Thread count was 8 (of 8 available processors)\n",
      "\n",
      "Solution count 7: 13364 13346 13338 ... 12745\n",
      "\n",
      "Optimal solution found (tolerance 1.00e-04)\n",
      "Best objective 1.336400000000e+04, best bound 1.336500000000e+04, gap 0.0075%\n"
     ]
    }
   ],
   "source": [
    "m = gp.Model()\n",
    "\n",
    "# Variaveis de decisão\n",
    "x = m.addVars(itens, mochilas,  vtype=gp.GRB.BINARY)\n",
    "\n",
    "# Função Objetivo do problema\n",
    "m.setObjective(\n",
    "    gp.quicksum(x[i, j] * valores[i] for i in itens for j in mochilas),\n",
    "    sense=gp.GRB.MAXIMIZE\n",
    ")\n",
    "\n",
    "#restrições\n",
    "c1 = m.addConstrs(\n",
    "    gp.quicksum(x[i, j] for j in mochilas) <= 1 for i in itens\n",
    ")\n",
    "\n",
    "c2 = m.addConstrs(\n",
    "    gp.quicksum(x[i, j] * pesos[i] for i in itens) <= capacidades[j] for j in mochilas\n",
    ")\n",
    "\n",
    "m.optimize()"
   ]
  },
  {
   "cell_type": "code",
   "execution_count": 48,
   "metadata": {},
   "outputs": [
    {
     "name": "stdout",
     "output_type": "stream",
     "text": [
      "Valor Total: 13364.0\n",
      "\n",
      "Mochila_1\n",
      "Item_5  Item_9  Item_13  Item_14  Item_18  Item_22  Item_24  Item_25  Item_27  Item_29  Item_30  Item_44  Item_49  Item_51  Item_59  Item_60  \n",
      "\n",
      "Mochila_2\n",
      "Item_12  Item_15  Item_16  Item_28  Item_32  Item_35  Item_38  Item_40  Item_46  Item_50  Item_53  Item_57  Item_63  \n",
      "\n",
      "Mochila_3\n",
      "Item_2  Item_4  Item_7  Item_10  Item_11  Item_19  Item_23  Item_31  Item_39  Item_41  Item_47  Item_48  Item_62  \n",
      "\n"
     ]
    }
   ],
   "source": [
    "print(\"Valor Total:\", m.objVal)\n",
    "print()\n",
    "\n",
    "for j in mochilas:\n",
    "    print(j)\n",
    "    for i in itens :\n",
    "        if round(x[i, j].X) == 1 :\n",
    "            print(i, end='  ')\n",
    "    print(\"\\n\")     "
   ]
  },
  {
   "cell_type": "code",
   "execution_count": 51,
   "metadata": {},
   "outputs": [
    {
     "name": "stdout",
     "output_type": "stream",
     "text": [
      "Capacidade utilizada:\n",
      "Mochila_1 1500.0\n",
      "Mochila_2 1999.0\n",
      "Mochila_3 1700.0\n"
     ]
    }
   ],
   "source": [
    "print('Capacidade utilizada:')\n",
    "for j in mochilas:\n",
    "    print(j, capacidades[j] - c2[j].Slack )"
   ]
  }
 ],
 "metadata": {
  "kernelspec": {
   "display_name": "Python 3",
   "language": "python",
   "name": "python3"
  },
  "language_info": {
   "codemirror_mode": {
    "name": "ipython",
    "version": 3
   },
   "file_extension": ".py",
   "mimetype": "text/x-python",
   "name": "python",
   "nbconvert_exporter": "python",
   "pygments_lexer": "ipython3",
   "version": "3.7.4"
  }
 },
 "nbformat": 4,
 "nbformat_minor": 2
}
