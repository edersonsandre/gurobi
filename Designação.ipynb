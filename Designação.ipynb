{
 "cells": [
  {
   "cell_type": "code",
   "execution_count": 1,
   "metadata": {},
   "outputs": [],
   "source": [
    "import gurobipy as gp"
   ]
  },
  {
   "cell_type": "code",
   "execution_count": 2,
   "metadata": {},
   "outputs": [],
   "source": [
    "qtd_equipes = 6\n",
    "qtd_projetos = 6\n",
    "vet_custos = [[108, 312, 144, 270, 160, 300],\n",
    "    [108, 208, 144, 360, 180, 270],\n",
    "    [108, 234, 180, 240, 180, 300],\n",
    "    [144, 286, 180, 330, 240, 300],\n",
    "    [132, 286, 144, 330, 180, 270],\n",
    "    [120, 312, 144, 270, 220, 300]]"
   ]
  },
  {
   "cell_type": "code",
   "execution_count": 3,
   "metadata": {},
   "outputs": [],
   "source": [
    "equipes = [\"Equipe_{}\".format(i+1) for i in range(qtd_equipes)]\n",
    "projetos = [\"Projeto_{}\".format(i+1) for i in range(qtd_projetos)]"
   ]
  },
  {
   "cell_type": "code",
   "execution_count": 4,
   "metadata": {},
   "outputs": [],
   "source": [
    "custos = dict()\n",
    "for i in range(qtd_equipes):\n",
    "    for j in range(qtd_projetos):\n",
    "        rot_eq = equipes[i]\n",
    "        rot_proj = projetos[j]\n",
    "        custos[rot_eq, rot_proj] = vet_custos[i][j]"
   ]
  },
  {
   "cell_type": "code",
   "execution_count": 5,
   "metadata": {},
   "outputs": [
    {
     "name": "stdout",
     "output_type": "stream",
     "text": [
      "Using license file /Users/edersonsandre/gurobi.lic\n",
      "Academic license - for non-commercial use only - expires 2021-02-06\n"
     ]
    }
   ],
   "source": [
    "m = gp.Model()\n",
    "\n",
    "x = m.addVars(equipes, projetos, vtype=gp.GRB.BINARY)\n",
    "\n",
    "m.setObjective(\n",
    "    gp.quicksum(custos[i, j] * x[i, j] for i in equipes for j in projetos),\n",
    "    sense = gp.GRB.MINIMIZE)"
   ]
  },
  {
   "cell_type": "code",
   "execution_count": 6,
   "metadata": {},
   "outputs": [],
   "source": [
    "c1 = m.addConstrs(\n",
    "    gp.quicksum(x[i, j] for j in projetos) == 1 for i in equipes)\n",
    "\n",
    "c2 = m.addConstrs(\n",
    "    gp.quicksum(x[i, j] for i in equipes) == 1 for j in projetos)"
   ]
  },
  {
   "cell_type": "code",
   "execution_count": 7,
   "metadata": {},
   "outputs": [
    {
     "name": "stdout",
     "output_type": "stream",
     "text": [
      "1166.0\n"
     ]
    }
   ],
   "source": [
    "m.setParam(gp.GRB.Param.OutputFlag, 0)\n",
    "m.optimize()\n",
    "print(m.objVal)"
   ]
  },
  {
   "cell_type": "code",
   "execution_count": 8,
   "metadata": {},
   "outputs": [
    {
     "name": "stdout",
     "output_type": "stream",
     "text": [
      "A Equipe_1 fará o Projeto_5 com o custo: 160\n",
      "A Equipe_2 fará o Projeto_2 com o custo: 208\n",
      "A Equipe_3 fará o Projeto_4 com o custo: 240\n",
      "A Equipe_4 fará o Projeto_1 com o custo: 144\n",
      "A Equipe_5 fará o Projeto_6 com o custo: 270\n",
      "A Equipe_6 fará o Projeto_3 com o custo: 144\n"
     ]
    }
   ],
   "source": [
    "for eq in equipes:\n",
    "    for proj in projetos:\n",
    "        if round(x[eq, proj].X) == 1:\n",
    "            print(\"A {} fará o {} com o custo: {}\".format(eq, proj, custos[eq, proj]))"
   ]
  },
  {
   "cell_type": "code",
   "execution_count": null,
   "metadata": {},
   "outputs": [],
   "source": []
  }
 ],
 "metadata": {
  "kernelspec": {
   "display_name": "Python 3",
   "language": "python",
   "name": "python3"
  },
  "language_info": {
   "codemirror_mode": {
    "name": "ipython",
    "version": 3
   },
   "file_extension": ".py",
   "mimetype": "text/x-python",
   "name": "python",
   "nbconvert_exporter": "python",
   "pygments_lexer": "ipython3",
   "version": "3.7.4"
  }
 },
 "nbformat": 4,
 "nbformat_minor": 2
}
