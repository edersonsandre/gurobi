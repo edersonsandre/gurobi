{
 "cells": [
  {
   "cell_type": "code",
   "execution_count": 1,
   "metadata": {},
   "outputs": [],
   "source": [
    "import gurobipy as gp"
   ]
  },
  {
   "cell_type": "code",
   "execution_count": 26,
   "metadata": {},
   "outputs": [],
   "source": [
    "qtde_itens = 15\n",
    "capacidade = 1000\n",
    "\n",
    "itens = [\"Item_{}\".format(i+1) for i in range(qtde_itens)]\n",
    "\n",
    "vet_pesos = [65, 94, 119, 59, 149, 114, 57, 136, 100, 150, 122, 117, 120, 130, 133]\n",
    "pesos = dict((itens[i], peso) for i, peso in enumerate(vet_pesos))\n",
    "\n",
    "vet_valores = [455, 691, 833, 425, 1064, 758, 419, 914, 651, 966, 828, 827, 857, 837, 894]\n",
    "valores = dict((itens[i], valor) for i, valor in enumerate(vet_valores))"
   ]
  },
  {
   "cell_type": "code",
   "execution_count": 28,
   "metadata": {},
   "outputs": [
    {
     "name": "stdout",
     "output_type": "stream",
     "text": [
      "Gurobi Optimizer version 9.1.0 build v9.1.0rc0 (mac64)\n",
      "Thread count: 4 physical cores, 8 logical processors, using up to 8 threads\n",
      "Optimize a model with 1 rows, 15 columns and 15 nonzeros\n",
      "Model fingerprint: 0x397a9a66\n",
      "Variable types: 0 continuous, 15 integer (15 binary)\n",
      "Coefficient statistics:\n",
      "  Matrix range     [6e+01, 2e+02]\n",
      "  Objective range  [4e+02, 1e+03]\n",
      "  Bounds range     [1e+00, 1e+00]\n",
      "  RHS range        [1e+03, 1e+03]\n",
      "Found heuristic solution: objective 6210.0000000\n",
      "Presolve removed 1 rows and 15 columns\n",
      "Presolve time: 0.00s\n",
      "Presolve: All rows and columns removed\n",
      "\n",
      "Explored 0 nodes (0 simplex iterations) in 0.02 seconds\n",
      "Thread count was 1 (of 8 available processors)\n",
      "\n",
      "Solution count 2: 6987 \n",
      "\n",
      "Optimal solution found (tolerance 1.00e-04)\n",
      "Best objective 6.987000000000e+03, best bound 6.987000000000e+03, gap 0.0000%\n"
     ]
    }
   ],
   "source": [
    "m = gp.Model()\n",
    "\n",
    "# Variaveis de decisão\n",
    "x = m.addVars(itens, vtype=gp.GRB.BINARY)\n",
    "\n",
    "# Função Objetivo do problema\n",
    "m.setObjective(\n",
    "    gp.quicksum(x[i] * valores[i] for i in itens),\n",
    "    sense=gp.GRB.MAXIMIZE\n",
    ")\n",
    "\n",
    "#restrições\n",
    "c1 = m.addConstr(\n",
    "    gp.quicksum(x[i] * pesos[i] for i in itens) <= capacidade\n",
    ")\n",
    "\n",
    "m.optimize()"
   ]
  },
  {
   "cell_type": "code",
   "execution_count": 40,
   "metadata": {},
   "outputs": [
    {
     "name": "stdout",
     "output_type": "stream",
     "text": [
      "Item_1\n",
      "Item_2\n",
      "Item_3\n",
      "Item_4\n",
      "Item_6\n",
      "Item_7\n",
      "Item_11\n",
      "Item_12\n",
      "Item_13\n",
      "Item_15\n"
     ]
    }
   ],
   "source": [
    "[print(item) if round(x[item].X) == 1 else ''  for item in itens];"
   ]
  },
  {
   "cell_type": "code",
   "execution_count": 43,
   "metadata": {},
   "outputs": [
    {
     "name": "stdout",
     "output_type": "stream",
     "text": [
      "Valor Total: 6987.0\n",
      "Capacidade Utilizada: 1000.0\n"
     ]
    }
   ],
   "source": [
    "print(\"Valor Total:\", m.objVal)\n",
    "print(\"Capacidade Utilizada:\", (capacidade - c1.Slack))"
   ]
  },
  {
   "cell_type": "code",
   "execution_count": null,
   "metadata": {},
   "outputs": [],
   "source": []
  }
 ],
 "metadata": {
  "kernelspec": {
   "display_name": "Python 3",
   "language": "python",
   "name": "python3"
  },
  "language_info": {
   "codemirror_mode": {
    "name": "ipython",
    "version": 3
   },
   "file_extension": ".py",
   "mimetype": "text/x-python",
   "name": "python",
   "nbconvert_exporter": "python",
   "pygments_lexer": "ipython3",
   "version": "3.7.4"
  }
 },
 "nbformat": 4,
 "nbformat_minor": 2
}
