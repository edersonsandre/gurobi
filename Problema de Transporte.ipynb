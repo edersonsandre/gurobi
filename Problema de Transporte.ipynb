{
 "cells": [
  {
   "cell_type": "code",
   "execution_count": 36,
   "metadata": {},
   "outputs": [],
   "source": [
    "import gurobipy as gp"
   ]
  },
  {
   "cell_type": "code",
   "execution_count": 37,
   "metadata": {},
   "outputs": [],
   "source": [
    "qtd_fabricas = 4\n",
    "qtd_clientes = 9\n",
    "\n",
    "vet_ofertas = [140, 160, 120, 190]\n",
    "vet_demandas = [50, 80, 30, 50, 100, 90, 120, 70, 120]\n",
    "\n",
    "vet_custos = [[12, 25, 39, 17, 38, 40, 8, 25, 13],\n",
    "              [17, 26, 20, 25, 30, 25, 14, 20, 15],\n",
    "              [35, 15, 18, 20, 12, 42, 27, 26, 19],\n",
    "              [28, 30, 37, 30, 28, 36, 16, 24, 32]]\n",
    "\n",
    "oferta_total = sum(vet_ofertas)\n",
    "demanda_total = sum(vet_demandas)"
   ]
  },
  {
   "cell_type": "code",
   "execution_count": 38,
   "metadata": {},
   "outputs": [],
   "source": [
    "fabricas = [\"Fab_{}\".format(i+1) for i in range(qtd_fabricas)]\n",
    "clientes = [\"Cli_{}\".format(i+1) for i in range(qtd_clientes)]\n",
    "\n",
    "ofertas = dict((fabricas[i], valor) for i, valor in enumerate(vet_ofertas))\n",
    "demandas = dict((clientes[i], valor) for i, valor in enumerate(vet_demandas))\n",
    "\n",
    "custos = dict(((fabricas[i], clientes[j]), vet_custos[i][j]) for i in range(qtd_fabricas) for j in range(qtd_clientes))\n"
   ]
  },
  {
   "cell_type": "code",
   "execution_count": 39,
   "metadata": {},
   "outputs": [
    {
     "name": "stdout",
     "output_type": "stream",
     "text": [
      "Gurobi Optimizer version 9.1.0 build v9.1.0rc0 (mac64)\n",
      "Thread count: 4 physical cores, 8 logical processors, using up to 8 threads\n",
      "Optimize a model with 13 rows, 36 columns and 72 nonzeros\n",
      "Model fingerprint: 0x9a324ff4\n",
      "Variable types: 0 continuous, 36 integer (0 binary)\n",
      "Coefficient statistics:\n",
      "  Matrix range     [1e+00, 1e+00]\n",
      "  Objective range  [8e+00, 4e+01]\n",
      "  Bounds range     [0e+00, 0e+00]\n",
      "  RHS range        [3e+01, 2e+02]\n",
      "Found heuristic solution: objective 18940.000000\n",
      "Presolve time: 0.00s\n",
      "Presolved: 13 rows, 36 columns, 72 nonzeros\n",
      "Variable types: 0 continuous, 36 integer (0 binary)\n",
      "\n",
      "Root relaxation: objective 1.008000e+04, 13 iterations, 0.00 seconds\n",
      "\n",
      "    Nodes    |    Current Node    |     Objective Bounds      |     Work\n",
      " Expl Unexpl |  Obj  Depth IntInf | Incumbent    BestBd   Gap | It/Node Time\n",
      "\n",
      "*    0     0               0    10080.000000 10080.0000  0.00%     -    0s\n",
      "\n",
      "Explored 0 nodes (13 simplex iterations) in 0.02 seconds\n",
      "Thread count was 8 (of 8 available processors)\n",
      "\n",
      "Solution count 2: 10080 18940 \n",
      "\n",
      "Optimal solution found (tolerance 1.00e-04)\n",
      "Best objective 1.008000000000e+04, best bound 1.008000000000e+04, gap 0.0000%\n"
     ]
    }
   ],
   "source": [
    "m = gp.Model()\n",
    "\n",
    "x = m.addVars(fabricas, clientes,  vtype=gp.GRB.INTEGER)\n",
    "\n",
    "m.setObjective(\n",
    "    gp.quicksum(x[i, j] * custos[i, j] for i in fabricas for j in clientes),\n",
    "    sense=gp.GRB.MINIMIZE\n",
    ")\n",
    "\n",
    "if oferta_total > demanda_total:\n",
    "    c1 = m.addConstrs(\n",
    "        gp.quicksum(x[i, j] for j in clientes) <= ofertas[i] for i in fabricas)\n",
    "    c2 = m.addConstrs(\n",
    "        gp.quicksum(x[i, j] for i in fabricas) == demandas[j] for j in clientes)\n",
    "else:\n",
    "    c1 = m.addConstrs(\n",
    "        gp.quicksum(x[i, j] for j in clientes) == ofertas[i] for i in fabricas)\n",
    "    \n",
    "    c2 = m.addConstrs(\n",
    "        gp.quicksum(x[i, j] for i in fabricas) <= demandas[j] for j in clientes)\n",
    "\n",
    "m.optimize()"
   ]
  },
  {
   "cell_type": "code",
   "execution_count": 40,
   "metadata": {},
   "outputs": [
    {
     "name": "stdout",
     "output_type": "stream",
     "text": [
      "Origem: Fab_1\n",
      "Transportar 50 unidades para Cli_1\n",
      "Transportar 50 unidades para Cli_4\n",
      "Transportar 40 unidades para Cli_7\n",
      "\n",
      "Origem: Fab_2\n",
      "Transportar 30 unidades para Cli_3\n",
      "Transportar 10 unidades para Cli_6\n",
      "Transportar 120 unidades para Cli_9\n",
      "\n",
      "Origem: Fab_3\n",
      "Transportar 20 unidades para Cli_2\n",
      "Transportar 100 unidades para Cli_5\n",
      "\n",
      "Origem: Fab_4\n",
      "Transportar 40 unidades para Cli_2\n",
      "Transportar 80 unidades para Cli_7\n",
      "Transportar 70 unidades para Cli_8\n",
      "\n"
     ]
    }
   ],
   "source": [
    "# Imprime o plano de transporte das fábricas\n",
    "for i in fabricas:\n",
    "    print(\"Origem:\", i)\n",
    "    for j in clientes:\n",
    "        qtd = round(x[i, j].X)\n",
    "        if qtd > 0:\n",
    "            print(\"Transportar {} unidades para {}\".format(qtd, j))\n",
    "    print(\"\")"
   ]
  },
  {
   "cell_type": "code",
   "execution_count": 41,
   "metadata": {},
   "outputs": [
    {
     "name": "stdout",
     "output_type": "stream",
     "text": [
      "Os clientes a seguir não tiveram toda a demanda atendida:\n",
      "Cliente: Cli_2 20 unidades\n",
      "Cliente: Cli_6 80 unidades\n"
     ]
    }
   ],
   "source": [
    "if oferta_total > demanda_total:\n",
    "    print(\"As fábricas a seguir tem capacidade excedente:\")\n",
    "    for i in fabricas:\n",
    "        sobra = round(c1[i].Slack)\n",
    "        if sobra > 0:\n",
    "            print(\"Fábrica:\", i, sobra, \"unidades\")\n",
    "elif demanda_total > oferta_total:\n",
    "    print(\"Os clientes a seguir não tiveram toda a demanda atendida:\")\n",
    "    for j in clientes:\n",
    "        sobra = round(c2[j].Slack)\n",
    "        if sobra > 0:\n",
    "            print(\"Cliente:\", j, sobra, \"unidades\")\n",
    "else:\n",
    "    print(\"A oferta e demanda estão balanceadas\")"
   ]
  }
 ],
 "metadata": {
  "kernelspec": {
   "display_name": "Python 3",
   "language": "python",
   "name": "python3"
  },
  "language_info": {
   "codemirror_mode": {
    "name": "ipython",
    "version": 3
   },
   "file_extension": ".py",
   "mimetype": "text/x-python",
   "name": "python",
   "nbconvert_exporter": "python",
   "pygments_lexer": "ipython3",
   "version": "3.7.4"
  }
 },
 "nbformat": 4,
 "nbformat_minor": 2
}
